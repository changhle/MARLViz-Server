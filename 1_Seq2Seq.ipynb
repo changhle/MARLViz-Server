{
 "cells": [
  {
   "cell_type": "markdown",
   "id": "cbc95bcd-9760-40dd-af09-25f0640666bb",
   "metadata": {},
   "source": [
    "# Preprocessing"
   ]
  },
  {
   "cell_type": "code",
   "execution_count": 20,
   "id": "56072f0d-5917-44a4-86e8-b8536093db6e",
   "metadata": {},
   "outputs": [],
   "source": [
    "import os\n",
    "import json\n",
    "import csv\n",
    "import pprint\n",
    "pp = pprint.PrettyPrinter(indent=4)"
   ]
  },
  {
   "cell_type": "code",
   "execution_count": 5,
   "id": "861af531-0142-4716-8dea-b885d129ec11",
   "metadata": {},
   "outputs": [
    {
     "name": "stdout",
     "output_type": "stream",
     "text": [
      "72\n"
     ]
    }
   ],
   "source": [
    "# Specify the directory path\n",
    "directory_path = 'data/agent/'\n",
    "\n",
    "agent_list = []\n",
    "agent_id = 0\n",
    "\n",
    "# List all files in the directory\n",
    "for filename in os.listdir(directory_path):\n",
    "    # Join the file name with the directory path to get the full file path\n",
    "    full_file_path = os.path.join(directory_path, filename)\n",
    "\n",
    "    # Check if it's a file and not a directory\n",
    "    if os.path.isfile(full_file_path):\n",
    "        # print(filename)\n",
    "        tokens = filename.split('_')\n",
    "        mode = tokens[0]\n",
    "        agent_num = int(tokens[1])\n",
    "        kill = float(tokens[2])\n",
    "        time = float(tokens[3])\n",
    "        idx = int(tokens[4].split(\".\")[0][-1])\n",
    "        features = []\n",
    "\n",
    "        with open(full_file_path, newline='', encoding='utf-8') as csvfile:\n",
    "            # Create a CSV reader object\n",
    "            csv_reader = csv.reader(csvfile)\n",
    "        \n",
    "            # Read the header (if any)\n",
    "            header = next(csv_reader)\n",
    "        \n",
    "            # Iterate over the rows in the CSV file\n",
    "            for row in csv_reader:\n",
    "                parsed = [int(item) for item in row]\n",
    "                features.append(parsed)\n",
    "\n",
    "        agent = {\n",
    "            'id': agent_id,\n",
    "            'mode': mode,\n",
    "            'agent_num': agent_num,\n",
    "            'kill': kill,\n",
    "            'time': time,\n",
    "            'idx': idx,\n",
    "            'features': features\n",
    "        }\n",
    "        agent_list.append(agent)\n",
    "        agent_id += 1\n",
    "        # print(mode, agent_num, kill, time, idx, len(features))\n",
    "\n",
    "print(len(agent_list))"
   ]
  },
  {
   "cell_type": "code",
   "execution_count": 6,
   "id": "f8fed7f8-f4e3-4f9e-903b-96e22a91fdbb",
   "metadata": {},
   "outputs": [
    {
     "name": "stdout",
     "output_type": "stream",
     "text": [
      "{   'agent_num': 2,\n",
      "    'features': [   [0, 1, 0, 0, 0],\n",
      "                    [0, 1, 0, 0, 0],\n",
      "                    [0, 1, 0, 0, 0],\n",
      "                    [0, 0, 1, 0, 0],\n",
      "                    [1, 0, 0, 0, 0],\n",
      "                    [1, 0, 0, 1, 0],\n",
      "                    [1, 0, 0, 0, 0],\n",
      "                    [1, 0, 0, 0, 0],\n",
      "                    [1, 0, 0, 0, 0],\n",
      "                    [0, 1, 0, 0, 0],\n",
      "                    [1, 0, 0, 0, 0],\n",
      "                    [0, 0, 1, 0, 0],\n",
      "                    [0, 1, 0, 0, 0],\n",
      "                    [1, 0, 0, 0, 0],\n",
      "                    [1, 0, 0, 0, 0],\n",
      "                    [1, 0, 0, 0, 0],\n",
      "                    [0, 0, 1, 0, 0],\n",
      "                    [1, 0, 0, 0, 0],\n",
      "                    [0, 0, 1, 0, 0],\n",
      "                    [1, 0, 0, 0, 0],\n",
      "                    [1, 0, 0, 0, 0],\n",
      "                    [0, 1, 0, 0, 0],\n",
      "                    [0, 1, 0, 0, 0],\n",
      "                    [1, 0, 0, 0, 0],\n",
      "                    [1, 0, 0, 0, 0],\n",
      "                    [0, 0, 1, 0, 0],\n",
      "                    [0, 0, 1, 0, 0],\n",
      "                    [1, 0, 0, 0, 0],\n",
      "                    [0, 1, 0, 0, 0],\n",
      "                    [0, 0, 1, 0, 0],\n",
      "                    [0, 0, 1, 0, 0],\n",
      "                    [0, 1, 0, 0, 0],\n",
      "                    [0, 0, 1, 0, 0],\n",
      "                    [0, 1, 0, 0, 0],\n",
      "                    [0, 1, 0, 0, 0],\n",
      "                    [1, 0, 0, 1, 0],\n",
      "                    [0, 1, 0, 0, 0],\n",
      "                    [1, 0, 0, 0, 0],\n",
      "                    [1, 0, 0, 0, 0],\n",
      "                    [1, 0, 0, 0, 0],\n",
      "                    [1, 0, 0, 0, 0],\n",
      "                    [1, 0, 0, 0, 0],\n",
      "                    [1, 0, 0, 0, 0],\n",
      "                    [1, 0, 0, 0, 0],\n",
      "                    [1, 0, 0, 0, 0],\n",
      "                    [1, 0, 0, 0, 0],\n",
      "                    [0, 1, 0, 0, 0],\n",
      "                    [0, 1, 0, 0, 0],\n",
      "                    [1, 0, 0, 0, 0],\n",
      "                    [0, 1, 0, 0, 0],\n",
      "                    [0, 0, 1, 0, 0],\n",
      "                    [0, 0, 1, 0, 0],\n",
      "                    [0, 1, 0, 0, 0],\n",
      "                    [1, 0, 0, 0, 0],\n",
      "                    [0, 0, 1, 0, 0],\n",
      "                    [1, 0, 0, 0, 0],\n",
      "                    [0, 1, 0, 0, 0],\n",
      "                    [1, 0, 0, 0, 0],\n",
      "                    [0, 0, 1, 0, 0],\n",
      "                    [0, 0, 1, 0, 0],\n",
      "                    [1, 0, 0, 0, 0],\n",
      "                    [1, 0, 0, 0, 0],\n",
      "                    [0, 0, 1, 1, 0],\n",
      "                    [0, 1, 0, 0, 0],\n",
      "                    [0, 1, 0, 0, 0],\n",
      "                    [1, 0, 0, 0, 0],\n",
      "                    [1, 0, 0, 0, 0],\n",
      "                    [1, 0, 0, 0, 0],\n",
      "                    [1, 0, 0, 0, 0],\n",
      "                    [0, 1, 0, 1, 0],\n",
      "                    [0, 0, 1, 0, 0],\n",
      "                    [1, 0, 0, 0, 0],\n",
      "                    [1, 0, 0, 0, 0],\n",
      "                    [1, 0, 0, 1, 0],\n",
      "                    [0, 1, 0, 0, 0],\n",
      "                    [1, 0, 0, 0, 0],\n",
      "                    [0, 0, 1, 0, 0],\n",
      "                    [0, 1, 0, 0, 0],\n",
      "                    [1, 0, 0, 0, 0],\n",
      "                    [0, 0, 1, 0, 0],\n",
      "                    [0, 1, 0, 0, 0],\n",
      "                    [0, 0, 1, 0, 0],\n",
      "                    [1, 0, 0, 0, 0],\n",
      "                    [0, 1, 0, 0, 0],\n",
      "                    [1, 0, 0, 0, 0],\n",
      "                    [0, 1, 0, 0, 0],\n",
      "                    [1, 0, 0, 0, 0],\n",
      "                    [0, 0, 1, 0, 0],\n",
      "                    [1, 0, 0, 0, 0],\n",
      "                    [0, 0, 1, 0, 0],\n",
      "                    [1, 0, 0, 0, 0],\n",
      "                    [0, 1, 0, 0, 0],\n",
      "                    [0, 1, 0, 0, 0],\n",
      "                    [1, 0, 0, 0, 0],\n",
      "                    [1, 0, 0, 0, 0],\n",
      "                    [1, 0, 0, 0, 0],\n",
      "                    [0, 1, 0, 0, 0],\n",
      "                    [0, 0, 1, 0, 0],\n",
      "                    [1, 0, 0, 0, 0],\n",
      "                    [0, 1, 0, 0, 0],\n",
      "                    [0, 0, 1, 0, 0],\n",
      "                    [0, 1, 0, 0, 0],\n",
      "                    [1, 0, 0, 0, 0],\n",
      "                    [1, 0, 0, 0, 0],\n",
      "                    [0, 0, 1, 0, 0],\n",
      "                    [1, 0, 0, 0, 0],\n",
      "                    [1, 0, 0, 0, 0],\n",
      "                    [1, 0, 0, 0, 0],\n",
      "                    [1, 0, 0, 0, 0],\n",
      "                    [1, 0, 0, 0, 0],\n",
      "                    [1, 0, 0, 0, 0],\n",
      "                    [0, 1, 0, 0, 0],\n",
      "                    [0, 0, 1, 0, 0],\n",
      "                    [1, 0, 0, 0, 0],\n",
      "                    [0, 1, 0, 0, 0],\n",
      "                    [1, 0, 0, 0, 0],\n",
      "                    [1, 0, 0, 0, 0],\n",
      "                    [1, 0, 0, 0, 0],\n",
      "                    [0, 0, 1, 1, 0],\n",
      "                    [0, 1, 0, 0, 0],\n",
      "                    [1, 0, 0, 0, 0],\n",
      "                    [1, 0, 0, 0, 0],\n",
      "                    [0, 1, 0, 0, 0],\n",
      "                    [1, 0, 0, 0, 0],\n",
      "                    [0, 0, 1, 0, 0],\n",
      "                    [0, 1, 0, 1, 0],\n",
      "                    [0, 0, 1, 0, 0],\n",
      "                    [0, 1, 0, 0, 0],\n",
      "                    [1, 0, 0, 0, 0],\n",
      "                    [0, 1, 0, 0, 0],\n",
      "                    [1, 0, 0, 0, 0],\n",
      "                    [1, 0, 0, 0, 0],\n",
      "                    [1, 0, 0, 0, 0],\n",
      "                    [0, 1, 0, 0, 0],\n",
      "                    [0, 0, 1, 0, 0],\n",
      "                    [0, 0, 1, 0, 0],\n",
      "                    [0, 1, 0, 0, 0],\n",
      "                    [0, 1, 0, 0, 0],\n",
      "                    [1, 0, 0, 0, 0],\n",
      "                    [0, 0, 1, 0, 0],\n",
      "                    [0, 1, 0, 0, 0],\n",
      "                    [0, 1, 0, 0, 0],\n",
      "                    [0, 0, 1, 0, 0],\n",
      "                    [1, 0, 0, 0, 0],\n",
      "                    [0, 1, 0, 0, 0],\n",
      "                    [0, 1, 0, 0, 0],\n",
      "                    [1, 0, 0, 0, 0],\n",
      "                    [1, 0, 0, 0, 0],\n",
      "                    [0, 0, 1, 0, 0],\n",
      "                    [0, 1, 0, 0, 0],\n",
      "                    [0, 0, 1, 0, 0],\n",
      "                    [1, 0, 0, 0, 0],\n",
      "                    [1, 0, 0, 0, 0],\n",
      "                    [1, 0, 0, 0, 0],\n",
      "                    [0, 1, 0, 0, 0],\n",
      "                    [0, 0, 1, 0, 0],\n",
      "                    [0, 1, 0, 0, 0],\n",
      "                    [0, 1, 0, 0, 0],\n",
      "                    [1, 0, 0, 0, 0],\n",
      "                    [1, 0, 0, 0, 0],\n",
      "                    [1, 0, 0, 0, 0],\n",
      "                    [1, 0, 0, 0, 0],\n",
      "                    [0, 1, 0, 0, 0],\n",
      "                    [0, 1, 0, 0, 0],\n",
      "                    [0, 0, 1, 0, 0],\n",
      "                    [1, 0, 0, 0, 0],\n",
      "                    [1, 0, 0, 1, 0],\n",
      "                    [1, 0, 0, 0, 0],\n",
      "                    [1, 0, 0, 0, 0],\n",
      "                    [0, 1, 0, 0, 0],\n",
      "                    [1, 0, 0, 0, 0],\n",
      "                    [1, 0, 0, 0, 0],\n",
      "                    [1, 0, 0, 0, 0],\n",
      "                    [0, 0, 1, 0, 0]],\n",
      "    'id': 0,\n",
      "    'idx': 0,\n",
      "    'kill': -1.0,\n",
      "    'mode': 'Coop',\n",
      "    'time': -0.01}\n"
     ]
    }
   ],
   "source": [
    "pp.pprint(agent_list[0])"
   ]
  },
  {
   "cell_type": "code",
   "execution_count": 7,
   "id": "de029cf8-b2d5-49c4-84ae-7bfddad1bf27",
   "metadata": {},
   "outputs": [
    {
     "name": "stdout",
     "output_type": "stream",
     "text": [
      "72\n"
     ]
    }
   ],
   "source": [
    "agent_dict = {}\n",
    "for agent in agent_list:\n",
    "    a_id = agent['id']\n",
    "    features = agent['features']\n",
    "    agent_dict[a_id] = features\n",
    "print(len(agent_dict))"
   ]
  },
  {
   "cell_type": "code",
   "execution_count": 8,
   "id": "5e3a803c-bbc2-4540-a06f-9d594b46232e",
   "metadata": {},
   "outputs": [
    {
     "name": "stdout",
     "output_type": "stream",
     "text": [
      "72\n",
      "174\n",
      "5\n",
      "0\n"
     ]
    }
   ],
   "source": [
    "print(len(agent_dict)) # Number of Agents\n",
    "for key, val in agent_dict.items():\n",
    "    print(len(val)) # Number of Actions for an agent\n",
    "    print(len(val[0])) # Number of feature dimensions for an action\n",
    "    print(val[0][0]) # A feature value\n",
    "    break"
   ]
  },
  {
   "cell_type": "markdown",
   "id": "f59d39a5-0e3b-41ea-811c-fbb0ecdaf02e",
   "metadata": {},
   "source": [
    "# Torch"
   ]
  },
  {
   "cell_type": "code",
   "execution_count": 9,
   "id": "b711859a-02c8-4e02-963e-f95f8b999b32",
   "metadata": {},
   "outputs": [
    {
     "name": "stderr",
     "output_type": "stream",
     "text": [
      "C:\\Users\\user\\Anaconda3\\envs\\marl\\lib\\site-packages\\numpy\\_distributor_init.py:30: UserWarning: loaded more than 1 DLL from .libs:\n",
      "C:\\Users\\user\\Anaconda3\\envs\\marl\\lib\\site-packages\\numpy\\.libs\\libopenblas.PYQHXLVVQ7VESDPUVUADXEVJOBGHJPAY.gfortran-win_amd64.dll\n",
      "C:\\Users\\user\\Anaconda3\\envs\\marl\\lib\\site-packages\\numpy\\.libs\\libopenblas64__v0.3.21-gcc_10_3_0.dll\n",
      "  warnings.warn(\"loaded more than 1 DLL from .libs:\\n%s\" %\n"
     ]
    },
    {
     "name": "stdout",
     "output_type": "stream",
     "text": [
      "cuda\n"
     ]
    }
   ],
   "source": [
    "# CUDA Availability\n",
    "import torch\n",
    "device = torch.device(\"cuda\" if torch.cuda.is_available() else \"cpu\")\n",
    "print(device)"
   ]
  },
  {
   "cell_type": "code",
   "execution_count": 10,
   "id": "d26b00b1-0318-4bf5-92b7-99b1f5851f8e",
   "metadata": {},
   "outputs": [],
   "source": [
    "agent_count = len(agent_dict)\n",
    "max_seq_len = -1\n",
    "\n",
    "tup_list = []\n",
    "for mover_id, val in agent_dict.items():\n",
    "    curr_seq_len = len(val)\n",
    "    if max_seq_len < curr_seq_len:\n",
    "        max_seq_len = curr_seq_len\n",
    "    tup = (mover_id, curr_seq_len)\n",
    "    tup_list.append(tup)\n",
    "\n",
    "tup_list.sort(key=lambda x: x[1], reverse=True)"
   ]
  },
  {
   "cell_type": "code",
   "execution_count": 11,
   "id": "6e2c1145-8198-42a6-b4e3-e519a9c32f95",
   "metadata": {},
   "outputs": [
    {
     "name": "stdout",
     "output_type": "stream",
     "text": [
      "(63, 1)\n",
      "(53, 10000)\n"
     ]
    }
   ],
   "source": [
    "print(tup_list[-1])\n",
    "print(tup_list[0])"
   ]
  },
  {
   "cell_type": "code",
   "execution_count": 12,
   "id": "0f6a9713-be52-4f02-ba91-e0dc30823338",
   "metadata": {},
   "outputs": [],
   "source": [
    "import math\n",
    "import random\n",
    "import torch\n",
    "import torch.nn as nn\n",
    "from torch.nn.utils.rnn import pad_sequence\n",
    "from torch.nn.utils.rnn import pack_padded_sequence\n",
    "from torch.nn.utils.rnn import pad_packed_sequence\n",
    "from torch import optim\n",
    "from importlib import reload\n",
    "import seq2seq as ss\n",
    "reload(ss)\n",
    "\n",
    "input_size = 5\n",
    "output_size = 5\n",
    "hidden_size = 32\n",
    "mini_batch = 4\n",
    "learning_rate=0.01\n",
    "\n",
    "encoder = ss.EncoderMSE(input_size, hidden_size).to(device)\n",
    "decoder = ss.DecoderMSE(input_size, hidden_size, output_size).to(device)\n",
    "encoder_optimizer = optim.AdamW(encoder.parameters(), lr=learning_rate)\n",
    "decoder_optimizer = optim.AdamW(decoder.parameters(), lr=learning_rate)\n",
    "\n",
    "criterion = nn.MSELoss()"
   ]
  },
  {
   "cell_type": "code",
   "execution_count": 13,
   "id": "03e8b592-8d48-4c19-a7bc-047cc4511b66",
   "metadata": {},
   "outputs": [
    {
     "name": "stdout",
     "output_type": "stream",
     "text": [
      "18\n",
      "18\n",
      "18\n",
      "18\n"
     ]
    }
   ],
   "source": [
    "packed_inputs = []\n",
    "packed_inputs_d = []\n",
    "batch_sizes = []\n",
    "seq_sums = []\n",
    "\n",
    "batch_count = math.ceil(agent_count / mini_batch)\n",
    "for i in range(batch_count):\n",
    "    batch_list = []\n",
    "    seq_len = []\n",
    "    seq_sum = 0\n",
    "    for j in range(mini_batch):\n",
    "        curr_idx = i * mini_batch + j\n",
    "        if curr_idx < agent_count:\n",
    "            m_id = tup_list[curr_idx][0]\n",
    "            m_seq = agent_dict[m_id]\n",
    "            m_tensor = torch.tensor(m_seq, dtype=torch.float, device=device)\n",
    "            batch_list.append(m_tensor)\n",
    "            seq_len.append(len(m_seq))\n",
    "            seq_sum += len(m_seq)\n",
    "            # print(m_tensor.shape)\n",
    "    # print(seq_len)\n",
    "    padded = pad_sequence(batch_list, batch_first=True)\n",
    "    packed = pack_padded_sequence(padded, seq_len, batch_first=True)\n",
    "    packed_inputs.append(packed)\n",
    "    batch_sizes.append(len(seq_len))\n",
    "    \n",
    "    d_batch_list = []\n",
    "    for t in batch_list:\n",
    "        a = torch.zeros(1, input_size, device=device)\n",
    "        b = t[:-1, :]\n",
    "        c = torch.cat((a, b), 0)\n",
    "        d_batch_list.append(c)\n",
    "    padded = pad_sequence(d_batch_list, batch_first=True)\n",
    "    packed = pack_padded_sequence(padded, seq_len, batch_first=True)\n",
    "    packed_inputs_d.append(packed)\n",
    "    seq_sums.append(seq_sum)\n",
    "    \n",
    "print(len(packed_inputs))\n",
    "print(len(batch_sizes))\n",
    "print(len(packed_inputs_d))\n",
    "print(len(seq_sums))"
   ]
  },
  {
   "cell_type": "code",
   "execution_count": 14,
   "id": "d2f610c0-ddd1-49c6-9db2-8dd7bff51cf1",
   "metadata": {},
   "outputs": [
    {
     "name": "stdout",
     "output_type": "stream",
     "text": [
      "ep: 0 / loss: 2.4056754037737846\n",
      "ep: 1 / loss: 2.1591348201036453\n",
      "ep: 2 / loss: 2.0828931778669357\n",
      "ep: 3 / loss: 2.0325635746121407\n",
      "ep: 4 / loss: 1.954870630055666\n",
      "ep: 5 / loss: 1.8822695296257734\n",
      "ep: 6 / loss: 1.8253436917439103\n",
      "ep: 7 / loss: 1.795360310934484\n",
      "ep: 8 / loss: 1.8321114680729806\n",
      "ep: 9 / loss: 1.8064047609223053\n",
      "ep: 10 / loss: 1.791350713931024\n",
      "ep: 11 / loss: 1.7402070304378867\n",
      "ep: 12 / loss: 1.7145470927935094\n",
      "ep: 13 / loss: 1.706881533144042\n",
      "ep: 14 / loss: 1.723070158623159\n",
      "ep: 15 / loss: 1.7026133104227483\n",
      "ep: 16 / loss: 1.7130567652639002\n",
      "ep: 17 / loss: 1.6622460435610265\n",
      "ep: 18 / loss: 1.6572589236311615\n",
      "ep: 19 / loss: 1.6460694530978799\n",
      "ep: 20 / loss: 1.6584336091764271\n",
      "ep: 21 / loss: 1.6217622701078653\n",
      "ep: 22 / loss: 1.5979186068288982\n",
      "ep: 23 / loss: 1.629631427116692\n",
      "ep: 24 / loss: 1.7013655290938914\n",
      "ep: 25 / loss: 1.6281390134245157\n",
      "ep: 26 / loss: 1.608565985225141\n",
      "ep: 27 / loss: 1.587608224246651\n",
      "ep: 28 / loss: 1.5648799652699381\n",
      "ep: 29 / loss: 1.584295895183459\n",
      "ep: 30 / loss: 1.6008439580909908\n",
      "ep: 31 / loss: 1.5433070631697774\n",
      "ep: 32 / loss: 1.5037234982009977\n",
      "ep: 33 / loss: 1.4762509160209447\n",
      "ep: 34 / loss: 1.467957743559964\n",
      "ep: 35 / loss: 1.462645168765448\n",
      "ep: 36 / loss: 1.4436586616793647\n",
      "ep: 37 / loss: 1.4393467961344868\n",
      "ep: 38 / loss: 1.493462142534554\n",
      "ep: 39 / loss: 1.4873295419383794\n",
      "ep: 40 / loss: 1.4555576625280082\n",
      "ep: 41 / loss: 1.4478383157402277\n",
      "ep: 42 / loss: 1.415404999628663\n",
      "ep: 43 / loss: 1.4218325862311758\n",
      "ep: 44 / loss: 1.4369137592148036\n",
      "ep: 45 / loss: 1.4045605480205268\n",
      "ep: 46 / loss: 1.3815266807796434\n",
      "ep: 47 / loss: 1.3968717677053064\n",
      "ep: 48 / loss: 1.3993227754253894\n",
      "ep: 49 / loss: 1.4018883783719502\n",
      "Training Time : 43.865s\n"
     ]
    }
   ],
   "source": [
    "import time\n",
    "\n",
    "losses = []\n",
    "epoch = 50\n",
    "\n",
    "start_time = time.time()\n",
    "\n",
    "# Minibatch iteration\n",
    "for ep in range(epoch):\n",
    "    \n",
    "    indexes = list(range(len(packed_inputs)))\n",
    "    random.shuffle(indexes)\n",
    "\n",
    "    counter = 0\n",
    "    ep_loss = 0\n",
    "    for idx in indexes:\n",
    "\n",
    "        encoder_optimizer.zero_grad()\n",
    "        decoder_optimizer.zero_grad()\n",
    "        loss = 0\n",
    "\n",
    "        encoder_input = packed_inputs[idx]\n",
    "        batch_size = batch_sizes[idx]\n",
    "        encoder_h0 = torch.zeros(1, batch_size, hidden_size, device=device)\n",
    "\n",
    "        _, h_n = encoder(encoder_input, encoder_h0)\n",
    "\n",
    "        decoder_input = packed_inputs_d[idx]\n",
    "        decoder_h0 = h_n\n",
    "\n",
    "        decoder_output, _ = decoder(decoder_input, decoder_h0)\n",
    "\n",
    "        unpacked, unpacked_len = pad_packed_sequence(encoder_input, batch_first=True)\n",
    "\n",
    "        if decoder_output.shape != unpacked.shape:\n",
    "            print('Error')\n",
    "            break\n",
    "\n",
    "        loss = criterion(decoder_output, unpacked)\n",
    "\n",
    "#         if counter % 200 == 0:\n",
    "#             loss_val = loss.item() / seq_sums[idx] * 1000\n",
    "#             print(counter, loss_val)\n",
    "#             losses.append(loss_val)\n",
    "        ep_loss += loss.item()\n",
    "\n",
    "        loss.backward()\n",
    "\n",
    "        encoder_optimizer.step()\n",
    "        decoder_optimizer.step()\n",
    "\n",
    "        # counter += 1\n",
    "    print('ep: {} / loss: {}'.format(ep, ep_loss))\n",
    "    losses.append(ep_loss)\n",
    "    \n",
    "elapsed_time = round(time.time() - start_time, 3)\n",
    "print('Training Time : {}s'.format(elapsed_time))\n",
    "    \n",
    "# print('Final Avg :', sum(losses) / len(losses))\n",
    "# ss.show_plot(losses)"
   ]
  },
  {
   "cell_type": "code",
   "execution_count": 15,
   "id": "3449fed8-a5ba-4813-97fa-ed4872cc317d",
   "metadata": {},
   "outputs": [],
   "source": [
    "encoder_h0 = torch.zeros(1, 1, hidden_size, device=device)\n",
    "encoder.eval()\n",
    "\n",
    "m_ids = []\n",
    "features = []\n",
    "agent_embed_dict = {}\n",
    "\n",
    "with torch.no_grad():\n",
    "    for tup in tup_list:\n",
    "        m_id = tup[0]\n",
    "        m_seq = agent_dict[m_id]\n",
    "        m_tensor = torch.tensor(m_seq, dtype=torch.float, device=device)\n",
    "        padded = pad_sequence([m_tensor], batch_first=True)\n",
    "        encoder_input = pack_padded_sequence(padded, [len(m_seq)], batch_first=True)\n",
    "        _, h_n = encoder(encoder_input, encoder_h0)\n",
    "        h_n = h_n.view(-1)\n",
    "        h_n_np = h_n.cpu().numpy()\n",
    "        \n",
    "        m_ids.append(m_id)\n",
    "        features.append(h_n_np)\n",
    "        agent_embed_dict[m_id] = {\n",
    "            'latent': h_n_np.tolist(),\n",
    "            'umap': None\n",
    "        }"
   ]
  },
  {
   "cell_type": "code",
   "execution_count": 16,
   "id": "90d88794-67db-4bdf-b215-acedbcfc16fc",
   "metadata": {},
   "outputs": [
    {
     "name": "stdout",
     "output_type": "stream",
     "text": [
      "{   'latent': [   0.9531567692756653,\n",
      "                  -0.9917037487030029,\n",
      "                  0.8628464937210083,\n",
      "                  -0.9947113990783691,\n",
      "                  0.9990179538726807,\n",
      "                  0.3755894899368286,\n",
      "                  0.9916315078735352,\n",
      "                  -0.9698636531829834,\n",
      "                  -0.3435787260532379,\n",
      "                  -0.2751971483230591,\n",
      "                  0.9534624814987183,\n",
      "                  -0.14029838144779205,\n",
      "                  0.9700829386711121,\n",
      "                  -0.9910875558853149,\n",
      "                  0.15181006491184235,\n",
      "                  -0.03551037237048149,\n",
      "                  -0.9988505244255066,\n",
      "                  -0.618249773979187,\n",
      "                  -0.16197749972343445,\n",
      "                  -0.1500931978225708,\n",
      "                  -0.9971576929092407,\n",
      "                  0.26608434319496155,\n",
      "                  0.9428211450576782,\n",
      "                  -0.05162745341658592,\n",
      "                  0.24343156814575195,\n",
      "                  0.9985382556915283,\n",
      "                  0.9399123191833496,\n",
      "                  -0.9996445178985596,\n",
      "                  0.006474785041064024,\n",
      "                  0.33272266387939453,\n",
      "                  0.8014199137687683,\n",
      "                  -0.2105180025100708],\n",
      "    'umap': None}\n"
     ]
    }
   ],
   "source": [
    "first_key = list(agent_embed_dict.keys())[0]\n",
    "first_val = agent_embed_dict[first_key]\n",
    "\n",
    "pp.pprint(first_val)"
   ]
  },
  {
   "cell_type": "code",
   "execution_count": 17,
   "id": "7947a89d-5c3d-4314-9e55-07429bcf5097",
   "metadata": {},
   "outputs": [
    {
     "name": "stdout",
     "output_type": "stream",
     "text": [
      "72\n",
      "53 32\n"
     ]
    }
   ],
   "source": [
    "print(len(agent_embed_dict))\n",
    "for key, val in agent_embed_dict.items():\n",
    "    print(key, len(val['latent']))\n",
    "    break"
   ]
  },
  {
   "cell_type": "markdown",
   "id": "f7f53af9-aa92-456f-bf1a-725590f50a1c",
   "metadata": {},
   "source": [
    "# Dimensionality Reduction"
   ]
  },
  {
   "cell_type": "code",
   "execution_count": 18,
   "id": "1a49b62e-07d3-4698-9e6c-bda8f89d5fa3",
   "metadata": {},
   "outputs": [],
   "source": [
    "import umap\n",
    "\n",
    "def run_and_write_umap(nn):\n",
    "    file_name = 'data/result/agent_umap_result_{}.json'.format(nn)\n",
    "    print('nn: {} Start'.format(nn))\n",
    "    \n",
    "    reducer = umap.UMAP(\n",
    "        n_neighbors=nn,\n",
    "        n_epochs= 500\n",
    "    )\n",
    "    embedding = reducer.fit_transform(features)\n",
    "    \n",
    "    for idx, m_id in enumerate(m_ids):\n",
    "        pt = embedding[idx]\n",
    "        agent_embed_dict[m_id]['umap'] = pt.tolist()\n",
    "        \n",
    "    new_dict = {}\n",
    "    for key, val in agent_embed_dict.items():\n",
    "        if 'latent' in val:\n",
    "            del val['latent']\n",
    "        new_dict[key] = val['umap']\n",
    "        \n",
    "    with open(file_name, \"w\", encoding='UTF-8') as write_file:\n",
    "        json.dump(new_dict, write_file, separators=(',', ':'), indent=4, ensure_ascii=False)\n",
    "    \n",
    "    print('nn: {} Done'.format(nn))"
   ]
  },
  {
   "cell_type": "code",
   "execution_count": 21,
   "id": "0d54d4bf-b309-43df-a645-eaf42321e83e",
   "metadata": {},
   "outputs": [
    {
     "name": "stdout",
     "output_type": "stream",
     "text": [
      "nn: 2 Start\n",
      "nn: 2 Done\n",
      "nn: 5 Start\n",
      "nn: 5 Done\n",
      "nn: 10 Start\n",
      "nn: 10 Done\n",
      "nn: 20 Start\n",
      "nn: 20 Done\n",
      "nn: 50 Start\n",
      "nn: 50 Done\n"
     ]
    }
   ],
   "source": [
    "nn_list = [2, 5, 10, 20, 50]\n",
    "\n",
    "for nn in nn_list:\n",
    "    run_and_write_umap(nn)"
   ]
  },
  {
   "cell_type": "code",
   "execution_count": 22,
   "id": "fc5767af-f29e-4333-b268-f535580de0ab",
   "metadata": {},
   "outputs": [
    {
     "name": "stdout",
     "output_type": "stream",
     "text": [
      "72\n"
     ]
    }
   ],
   "source": [
    "file_name = 'data/result/agent_umap_result_5.json'\n",
    "\n",
    "with open(file_name, \"r\", encoding='UTF-8') as read_file:\n",
    "    read_dict = json.load(read_file)\n",
    "print(len(read_dict))"
   ]
  },
  {
   "cell_type": "code",
   "execution_count": 25,
   "id": "0763ee7c-4b87-42e2-bac3-7eab5a8be3e5",
   "metadata": {},
   "outputs": [],
   "source": [
    "x = []\n",
    "y = []\n",
    "for k, v in read_dict.items():\n",
    "    x.append(v[0])\n",
    "    y.append(v[1])"
   ]
  },
  {
   "cell_type": "code",
   "execution_count": 26,
   "id": "5b1d1b14-d5c5-44c4-8993-0f6fc2ceae47",
   "metadata": {},
   "outputs": [
    {
     "data": {
      "image/png": "[encoded data removed]",
      "text/plain": [
       "<Figure size 640x480 with 1 Axes>"
      ]
     },
     "metadata": {},
     "output_type": "display_data"
    }
   ],
   "source": [
    "import matplotlib.pyplot as plt\n",
    "\n",
    "plt.scatter(x, y, c =\"blue\")\n",
    "plt.show()"
   ]
  }
 ],
 "metadata": {
  "kernelspec": {
   "display_name": "Python 3 (ipykernel)",
   "language": "python",
   "name": "python3"
  },
  "language_info": {
   "codemirror_mode": {
    "name": "ipython",
    "version": 3
   },
   "file_extension": ".py",
   "mimetype": "text/x-python",
   "name": "python",
   "nbconvert_exporter": "python",
   "pygments_lexer": "ipython3",
   "version": "3.8.18"
  }
 },
 "nbformat": 4,
 "nbformat_minor": 5
}
